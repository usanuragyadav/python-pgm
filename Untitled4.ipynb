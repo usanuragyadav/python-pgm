{
  "nbformat": 4,
  "nbformat_minor": 0,
  "metadata": {
    "colab": {
      "provenance": [],
      "authorship_tag": "ABX9TyNAy1M0zWiJX2PSNq3wDmLW",
      "include_colab_link": true
    },
    "kernelspec": {
      "name": "python3",
      "display_name": "Python 3"
    },
    "language_info": {
      "name": "python"
    }
  },
  "cells": [
    {
      "cell_type": "markdown",
      "metadata": {
        "id": "view-in-github",
        "colab_type": "text"
      },
      "source": [
        "<a href=\"https://colab.research.google.com/github/usanuragyadav/python-pgm/blob/main/Untitled4.ipynb\" target=\"_parent\"><img src=\"https://colab.research.google.com/assets/colab-badge.svg\" alt=\"Open In Colab\"/></a>"
      ]
    },
    {
      "cell_type": "code",
      "execution_count": 26,
      "metadata": {
        "colab": {
          "base_uri": "https://localhost:8080/"
        },
        "id": "RTR-fcstWpIj",
        "outputId": "9b5bf750-4408-4c03-eadd-4a00dd6213f5"
      },
      "outputs": [
        {
          "output_type": "stream",
          "name": "stdout",
          "text": [
            "inter your age13\n",
            "you are eligible\n"
          ]
        }
      ],
      "source": [
        "Var1 = 18\n",
        "Var2 = int(input(\"inter your age\"))\n",
        "if (Var1 > Var2):\n",
        "  print (\"you are eligible\")\n",
        "else:\n",
        "  print (\"you are not eligible\")"
      ]
    }
  ]
}